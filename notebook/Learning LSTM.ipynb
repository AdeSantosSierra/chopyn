{
 "cells": [
  {
   "cell_type": "code",
   "execution_count": 1,
   "metadata": {
    "collapsed": true
   },
   "outputs": [],
   "source": [
    "'''\n",
    "A Recurrent Neural Network (LSTM) implementation example using TensorFlow..\n",
    "Next word prediction after n_input words learned from text file.\n",
    "A story is automatically generated if the predicted word is fed back as input.\n",
    "Author: Rowel Atienza\n",
    "Project: https://github.com/roatienza/Deep-Learning-Experiments\n",
    "'''\n",
    "\n",
    "from __future__ import print_function\n",
    "\n",
    "import numpy as np\n",
    "import tensorflow as tf\n",
    "from tensorflow.contrib import rnn\n",
    "import random\n",
    "import collections\n",
    "import time"
   ]
  },
  {
   "cell_type": "code",
   "execution_count": 2,
   "metadata": {},
   "outputs": [
    {
     "name": "stdout",
     "output_type": "stream",
     "text": [
      "Loaded training data...\n"
     ]
    }
   ],
   "source": [
    "start_time = time.time()\n",
    "def elapsed(sec):\n",
    "    if sec<60:\n",
    "        return str(sec) + \" sec\"\n",
    "    elif sec<(60*60):\n",
    "        return str(sec/60) + \" min\"\n",
    "    else:\n",
    "        return str(sec/(60*60)) + \" hr\"\n",
    "\n",
    "\n",
    "# Target log path\n",
    "logs_path = '../tmp'\n",
    "writer = tf.summary.FileWriter(logs_path)\n",
    "\n",
    "# Text file containing words for training\n",
    "training_file = 'belling_the_cat.txt'\n",
    "\n",
    "def read_data(fname):\n",
    "    with open(fname) as f:\n",
    "        content = f.readlines()\n",
    "    content = [x.strip() for x in content]\n",
    "    content = [word for i in range(len(content)) for word in content[i].split()]\n",
    "    content = np.array(content)\n",
    "    return content\n",
    "\n",
    "training_data = read_data(training_file)\n",
    "print(\"Loaded training data...\")\n",
    "\n",
    "def build_dataset(words):\n",
    "    count = collections.Counter(words).most_common()\n",
    "    dictionary = dict()\n",
    "    for word, _ in count:\n",
    "        dictionary[word] = len(dictionary)\n",
    "    reverse_dictionary = dict(zip(dictionary.values(), dictionary.keys()))\n",
    "    return dictionary, reverse_dictionary"
   ]
  },
  {
   "cell_type": "code",
   "execution_count": 3,
   "metadata": {
    "collapsed": true
   },
   "outputs": [],
   "source": [
    "dictionary, reverse_dictionary = build_dataset(training_data)\n",
    "vocab_size = len(dictionary)"
   ]
  },
  {
   "cell_type": "code",
   "execution_count": 28,
   "metadata": {},
   "outputs": [
    {
     "data": {
      "text/plain": [
       "{',': 0,\n",
       " '.': 2,\n",
       " '?': 62,\n",
       " 'a': 6,\n",
       " 'about': 68,\n",
       " 'ago': 82,\n",
       " 'agree': 95,\n",
       " 'all': 17,\n",
       " 'always': 52,\n",
       " 'an': 85,\n",
       " 'and': 3,\n",
       " 'another': 72,\n",
       " 'applause': 46,\n",
       " 'approach': 61,\n",
       " 'approaches': 66,\n",
       " 'at': 34,\n",
       " 'attached': 89,\n",
       " 'be': 63,\n",
       " 'bell': 18,\n",
       " 'but': 30,\n",
       " 'by': 25,\n",
       " 'case': 87,\n",
       " 'cat': 13,\n",
       " 'chief': 111,\n",
       " 'common': 54,\n",
       " 'consider': 37,\n",
       " 'consists': 39,\n",
       " 'could': 7,\n",
       " 'council': 98,\n",
       " 'danger': 71,\n",
       " 'easily': 36,\n",
       " 'easy': 44,\n",
       " 'enemy': 21,\n",
       " 'escape': 57,\n",
       " 'from': 74,\n",
       " 'general': 33,\n",
       " 'got': 23,\n",
       " 'had': 19,\n",
       " 'he': 11,\n",
       " 'her': 26,\n",
       " 'i': 108,\n",
       " 'if': 99,\n",
       " 'impossible': 73,\n",
       " 'in': 15,\n",
       " 'is': 14,\n",
       " 'it': 97,\n",
       " 'know': 49,\n",
       " 'last': 69,\n",
       " 'long': 77,\n",
       " 'looked': 100,\n",
       " 'make': 101,\n",
       " 'manner': 96,\n",
       " 'means': 47,\n",
       " 'measures': 106,\n",
       " 'meet': 94,\n",
       " 'met': 65,\n",
       " 'mice': 31,\n",
       " 'mouse': 16,\n",
       " 'neck': 107,\n",
       " 'neighbourhood': 67,\n",
       " 'nobody': 84,\n",
       " 'now': 51,\n",
       " 'of': 27,\n",
       " 'old': 22,\n",
       " 'one': 40,\n",
       " 'our': 58,\n",
       " 'outwit': 43,\n",
       " 'procured': 103,\n",
       " 'proposal': 28,\n",
       " 'propose': 20,\n",
       " 'receive': 70,\n",
       " 'remedies': 81,\n",
       " 'retire': 38,\n",
       " 'ribbon': 59,\n",
       " 'round': 56,\n",
       " 'said': 5,\n",
       " 'she': 24,\n",
       " 'should': 42,\n",
       " 'signal': 53,\n",
       " 'sly': 88,\n",
       " 'small': 55,\n",
       " 'some': 9,\n",
       " 'spoke': 75,\n",
       " 'take': 104,\n",
       " 'that': 8,\n",
       " 'the': 1,\n",
       " 'their': 78,\n",
       " 'then': 45,\n",
       " 'therefore': 79,\n",
       " 'they': 50,\n",
       " 'this': 12,\n",
       " 'thought': 110,\n",
       " 'to': 4,\n",
       " 'treacherous': 83,\n",
       " 'until': 80,\n",
       " 'up': 32,\n",
       " 'us': 90,\n",
       " 'venture': 93,\n",
       " 'very': 48,\n",
       " 'was': 29,\n",
       " 'we': 10,\n",
       " 'well': 109,\n",
       " 'what': 60,\n",
       " 'when': 102,\n",
       " 'which': 35,\n",
       " 'while': 92,\n",
       " 'who': 64,\n",
       " 'will': 91,\n",
       " 'with': 86,\n",
       " 'would': 76,\n",
       " 'you': 105,\n",
       " 'young': 41}"
      ]
     },
     "execution_count": 28,
     "metadata": {},
     "output_type": "execute_result"
    }
   ],
   "source": [
    "dictionary"
   ]
  },
  {
   "cell_type": "code",
   "execution_count": 4,
   "metadata": {
    "collapsed": true
   },
   "outputs": [],
   "source": [
    "# Parameters\n",
    "learning_rate = 0.001\n",
    "training_iters = 10000\n",
    "display_step = 1000\n",
    "n_input = 3\n",
    "\n",
    "# number of units in RNN cell\n",
    "n_hidden = 512\n",
    "\n",
    "# tf Graph input\n",
    "x = tf.placeholder(\"float\", [None, n_input, 1])\n",
    "y = tf.placeholder(\"float\", [None, vocab_size])\n",
    "\n",
    "# RNN output node weights and biases\n",
    "weights = {\n",
    "    'out': tf.Variable(tf.random_normal([n_hidden, vocab_size]))\n",
    "}\n",
    "biases = {\n",
    "    'out': tf.Variable(tf.random_normal([vocab_size]))\n",
    "}\n",
    "\n",
    "def RNN(x, weights, biases):\n",
    "    \n",
    "    # reshape to [1, n_input]\n",
    "    x = tf.reshape(x, [-1, n_input])\n",
    "    print(x)\n",
    "\n",
    "    # Generate a n_input-element sequence of inputs\n",
    "    # (eg. [had] [a] [general] -> [20] [6] [33])\n",
    "    x = tf.split(x,n_input,1)\n",
    "    print(x)\n",
    "\n",
    "    # 2-layer LSTM, each layer has n_hidden units.\n",
    "    # Average Accuracy= 95.20% at 50k iter\n",
    "    rnn_cell = rnn.MultiRNNCell([rnn.BasicLSTMCell(n_hidden),rnn.BasicLSTMCell(n_hidden)])\n",
    "    print(rnn_cell)\n",
    "    \n",
    "    # 1-layer LSTM with n_hidden units but with lower accuracy.\n",
    "    # Average Accuracy= 90.60% 50k iter\n",
    "    # Uncomment line below to test but comment out the 2-layer rnn.MultiRNNCell above\n",
    "    # rnn_cell = rnn.BasicLSTMCell(n_hidden)\n",
    "\n",
    "    # generate prediction\n",
    "    outputs, states = rnn.static_rnn(rnn_cell, x, dtype=tf.float32)\n",
    "    print(outputs)\n",
    "\n",
    "    # there are n_input outputs but\n",
    "    # we only want the last output\n",
    "    return tf.matmul(outputs[-1], weights['out']) + biases['out']"
   ]
  },
  {
   "cell_type": "code",
   "execution_count": 5,
   "metadata": {},
   "outputs": [
    {
     "name": "stdout",
     "output_type": "stream",
     "text": [
      "Tensor(\"Reshape:0\", shape=(?, 3), dtype=float32)\n",
      "[<tf.Tensor 'split:0' shape=(?, 1) dtype=float32>, <tf.Tensor 'split:1' shape=(?, 1) dtype=float32>, <tf.Tensor 'split:2' shape=(?, 1) dtype=float32>]\n",
      "<tensorflow.python.ops.rnn_cell_impl.MultiRNNCell object at 0x11c30ce50>\n",
      "[<tf.Tensor 'rnn/rnn/multi_rnn_cell/cell_1/basic_lstm_cell/Mul_2:0' shape=(?, 512) dtype=float32>, <tf.Tensor 'rnn/rnn/multi_rnn_cell/cell_1/basic_lstm_cell/Mul_5:0' shape=(?, 512) dtype=float32>, <tf.Tensor 'rnn/rnn/multi_rnn_cell/cell_1/basic_lstm_cell/Mul_8:0' shape=(?, 512) dtype=float32>]\n"
     ]
    }
   ],
   "source": [
    "pred = RNN(x, weights, biases)"
   ]
  },
  {
   "cell_type": "code",
   "execution_count": 6,
   "metadata": {},
   "outputs": [
    {
     "name": "stdout",
     "output_type": "stream",
     "text": [
      "WARNING:tensorflow:From <ipython-input-6-a7db46f13d04>:2: softmax_cross_entropy_with_logits (from tensorflow.python.ops.nn_ops) is deprecated and will be removed in a future version.\n",
      "Instructions for updating:\n",
      "\n",
      "Future major versions of TensorFlow will allow gradients to flow\n",
      "into the labels input on backprop by default.\n",
      "\n",
      "See @{tf.nn.softmax_cross_entropy_with_logits_v2}.\n",
      "\n"
     ]
    }
   ],
   "source": [
    "# Loss and optimizer\n",
    "cost = tf.reduce_mean(tf.nn.softmax_cross_entropy_with_logits(logits=pred, labels=y))\n",
    "optimizer = tf.train.RMSPropOptimizer(learning_rate=learning_rate).minimize(cost)\n",
    "\n",
    "# Model evaluation\n",
    "correct_pred = tf.equal(tf.argmax(pred,1), tf.argmax(y,1))\n",
    "accuracy = tf.reduce_mean(tf.cast(correct_pred, tf.float32))\n",
    "\n",
    "# Initializing the variables\n",
    "init = tf.global_variables_initializer()"
   ]
  },
  {
   "cell_type": "code",
   "execution_count": 16,
   "metadata": {},
   "outputs": [],
   "source": [
    "n_input = 5\n",
    "offset = random.randint(0,n_input+1)\n",
    "symbols_in_keys = [ [dictionary[ str(training_data[i])]] for i in range(offset, offset+n_input) ]"
   ]
  },
  {
   "cell_type": "code",
   "execution_count": 27,
   "metadata": {},
   "outputs": [
    {
     "data": {
      "text/plain": [
       "{',': 0,\n",
       " '.': 2,\n",
       " '?': 62,\n",
       " 'a': 6,\n",
       " 'about': 68,\n",
       " 'ago': 82,\n",
       " 'agree': 95,\n",
       " 'all': 17,\n",
       " 'always': 52,\n",
       " 'an': 85,\n",
       " 'and': 3,\n",
       " 'another': 72,\n",
       " 'applause': 46,\n",
       " 'approach': 61,\n",
       " 'approaches': 66,\n",
       " 'at': 34,\n",
       " 'attached': 89,\n",
       " 'be': 63,\n",
       " 'bell': 18,\n",
       " 'but': 30,\n",
       " 'by': 25,\n",
       " 'case': 87,\n",
       " 'cat': 13,\n",
       " 'chief': 111,\n",
       " 'common': 54,\n",
       " 'consider': 37,\n",
       " 'consists': 39,\n",
       " 'could': 7,\n",
       " 'council': 98,\n",
       " 'danger': 71,\n",
       " 'easily': 36,\n",
       " 'easy': 44,\n",
       " 'enemy': 21,\n",
       " 'escape': 57,\n",
       " 'from': 74,\n",
       " 'general': 33,\n",
       " 'got': 23,\n",
       " 'had': 19,\n",
       " 'he': 11,\n",
       " 'her': 26,\n",
       " 'i': 108,\n",
       " 'if': 99,\n",
       " 'impossible': 73,\n",
       " 'in': 15,\n",
       " 'is': 14,\n",
       " 'it': 97,\n",
       " 'know': 49,\n",
       " 'last': 69,\n",
       " 'long': 77,\n",
       " 'looked': 100,\n",
       " 'make': 101,\n",
       " 'manner': 96,\n",
       " 'means': 47,\n",
       " 'measures': 106,\n",
       " 'meet': 94,\n",
       " 'met': 65,\n",
       " 'mice': 31,\n",
       " 'mouse': 16,\n",
       " 'neck': 107,\n",
       " 'neighbourhood': 67,\n",
       " 'nobody': 84,\n",
       " 'now': 51,\n",
       " 'of': 27,\n",
       " 'old': 22,\n",
       " 'one': 40,\n",
       " 'our': 58,\n",
       " 'outwit': 43,\n",
       " 'procured': 103,\n",
       " 'proposal': 28,\n",
       " 'propose': 20,\n",
       " 'receive': 70,\n",
       " 'remedies': 81,\n",
       " 'retire': 38,\n",
       " 'ribbon': 59,\n",
       " 'round': 56,\n",
       " 'said': 5,\n",
       " 'she': 24,\n",
       " 'should': 42,\n",
       " 'signal': 53,\n",
       " 'sly': 88,\n",
       " 'small': 55,\n",
       " 'some': 9,\n",
       " 'spoke': 75,\n",
       " 'take': 104,\n",
       " 'that': 8,\n",
       " 'the': 1,\n",
       " 'their': 78,\n",
       " 'then': 45,\n",
       " 'therefore': 79,\n",
       " 'they': 50,\n",
       " 'this': 12,\n",
       " 'thought': 110,\n",
       " 'to': 4,\n",
       " 'treacherous': 83,\n",
       " 'until': 80,\n",
       " 'up': 32,\n",
       " 'us': 90,\n",
       " 'venture': 93,\n",
       " 'very': 48,\n",
       " 'was': 29,\n",
       " 'we': 10,\n",
       " 'well': 109,\n",
       " 'what': 60,\n",
       " 'when': 102,\n",
       " 'which': 35,\n",
       " 'while': 92,\n",
       " 'who': 64,\n",
       " 'will': 91,\n",
       " 'with': 86,\n",
       " 'would': 76,\n",
       " 'you': 105,\n",
       " 'young': 41}"
      ]
     },
     "execution_count": 27,
     "metadata": {},
     "output_type": "execute_result"
    }
   ],
   "source": [
    "dictionary"
   ]
  },
  {
   "cell_type": "code",
   "execution_count": 18,
   "metadata": {},
   "outputs": [],
   "source": [
    "symbols_in_keys = np.reshape(np.array(symbols_in_keys), [-1, n_input, 1])"
   ]
  },
  {
   "cell_type": "code",
   "execution_count": 19,
   "metadata": {},
   "outputs": [
    {
     "data": {
      "text/plain": [
       "array([[[ 6],\n",
       "        [33],\n",
       "        [98],\n",
       "        [ 4],\n",
       "        [37]]])"
      ]
     },
     "execution_count": 19,
     "metadata": {},
     "output_type": "execute_result"
    }
   ],
   "source": [
    "symbols_in_keys"
   ]
  },
  {
   "cell_type": "code",
   "execution_count": 26,
   "metadata": {},
   "outputs": [
    {
     "data": {
      "text/plain": [
       "60"
      ]
     },
     "execution_count": 26,
     "metadata": {},
     "output_type": "execute_result"
    }
   ],
   "source": [
    "dictionary[ str(training_data[offset+n_input])]"
   ]
  },
  {
   "cell_type": "code",
   "execution_count": 21,
   "metadata": {},
   "outputs": [],
   "source": [
    "symbols_out_onehot = np.zeros([vocab_size], dtype=float)\n",
    "symbols_out_onehot[dictionary[str(training_data[offset+n_input])]] = 1.0\n",
    "symbols_out_onehot = np.reshape(symbols_out_onehot,[1,-1])"
   ]
  },
  {
   "cell_type": "code",
   "execution_count": 22,
   "metadata": {},
   "outputs": [
    {
     "data": {
      "text/plain": [
       "array([[0., 0., 0., 0., 0., 0., 0., 0., 0., 0., 0., 0., 0., 0., 0., 0.,\n",
       "        0., 0., 0., 0., 0., 0., 0., 0., 0., 0., 0., 0., 0., 0., 0., 0.,\n",
       "        0., 0., 0., 0., 0., 0., 0., 0., 0., 0., 0., 0., 0., 0., 0., 0.,\n",
       "        0., 0., 0., 0., 0., 0., 0., 0., 0., 0., 0., 0., 1., 0., 0., 0.,\n",
       "        0., 0., 0., 0., 0., 0., 0., 0., 0., 0., 0., 0., 0., 0., 0., 0.,\n",
       "        0., 0., 0., 0., 0., 0., 0., 0., 0., 0., 0., 0., 0., 0., 0., 0.,\n",
       "        0., 0., 0., 0., 0., 0., 0., 0., 0., 0., 0., 0., 0., 0., 0., 0.]])"
      ]
     },
     "execution_count": 22,
     "metadata": {},
     "output_type": "execute_result"
    }
   ],
   "source": [
    "symbols_out_onehot"
   ]
  },
  {
   "cell_type": "code",
   "execution_count": null,
   "metadata": {},
   "outputs": [],
   "source": [
    "# Launch the graph\n",
    "with tf.Session() as session:\n",
    "    session.run(init)\n",
    "    step = 0\n",
    "    offset = random.randint(0,n_input+1)\n",
    "    end_offset = n_input + 1\n",
    "    acc_total = 0\n",
    "    loss_total = 0\n",
    "\n",
    "    writer.add_graph(session.graph)\n",
    "\n",
    "    while step < training_iters:\n",
    "        # Generate a minibatch. Add some randomness on selection process.\n",
    "        if offset > (len(training_data)-end_offset):\n",
    "            offset = random.randint(0, n_input+1)\n",
    "\n",
    "        symbols_in_keys = [ [dictionary[ str(training_data[i])]] for i in range(offset, offset+n_input) ]\n",
    "        symbols_in_keys = np.reshape(np.array(symbols_in_keys), [-1, n_input, 1])\n",
    "\n",
    "        symbols_out_onehot = np.zeros([vocab_size], dtype=float)\n",
    "        symbols_out_onehot[dictionary[str(training_data[offset+n_input])]] = 1.0\n",
    "        symbols_out_onehot = np.reshape(symbols_out_onehot,[1,-1])\n",
    "\n",
    "        _, acc, loss, onehot_pred = session.run([optimizer, accuracy, cost, pred], \\\n",
    "                                                feed_dict={x: symbols_in_keys, y: symbols_out_onehot})\n",
    "        loss_total += loss\n",
    "        acc_total += acc\n",
    "        if (step+1) % display_step == 0:\n",
    "            print(\"Iter= \" + str(step+1) + \", Average Loss= \" + \\\n",
    "                  \"{:.6f}\".format(loss_total/display_step) + \", Average Accuracy= \" + \\\n",
    "                  \"{:.2f}%\".format(100*acc_total/display_step))\n",
    "            acc_total = 0\n",
    "            loss_total = 0\n",
    "            symbols_in = [training_data[i] for i in range(offset, offset + n_input)]\n",
    "            symbols_out = training_data[offset + n_input]\n",
    "            symbols_out_pred = reverse_dictionary[int(tf.argmax(onehot_pred, 1).eval())]\n",
    "            print(\"%s - [%s] vs [%s]\" % (symbols_in,symbols_out,symbols_out_pred))\n",
    "        step += 1\n",
    "        offset += (n_input+1)\n",
    "    print(\"Optimization Finished!\")\n",
    "    print(\"Elapsed time: \", elapsed(time.time() - start_time))\n",
    "    print(\"Run on command line.\")\n",
    "    print(\"\\ttensorboard --logdir=%s\" % (logs_path))\n",
    "    print(\"Point your web browser to: http://localhost:6006/\")\n",
    "    while True:\n",
    "        prompt = \"%s words: \" % n_input\n",
    "        sentence = input(prompt)\n",
    "        sentence = sentence.strip()\n",
    "        words = sentence.split(' ')\n",
    "        if len(words) != n_input:\n",
    "            continue\n",
    "        try:\n",
    "            symbols_in_keys = [dictionary[str(words[i])] for i in range(len(words))]\n",
    "            for i in range(32):\n",
    "                keys = np.reshape(np.array(symbols_in_keys), [-1, n_input, 1])\n",
    "                onehot_pred = session.run(pred, feed_dict={x: keys})\n",
    "                onehot_pred_index = int(tf.argmax(onehot_pred, 1).eval())\n",
    "                sentence = \"%s %s\" % (sentence,reverse_dictionary[onehot_pred_index])\n",
    "                symbols_in_keys = symbols_in_keys[1:]\n",
    "                symbols_in_keys.append(onehot_pred_index)\n",
    "            print(sentence)\n",
    "        except:\n",
    "            print(\"Word not in dictionary\")"
   ]
  },
  {
   "cell_type": "code",
   "execution_count": null,
   "metadata": {
    "collapsed": true
   },
   "outputs": [],
   "source": []
  }
 ],
 "metadata": {
  "kernelspec": {
   "display_name": "Python 2",
   "language": "python",
   "name": "python2"
  },
  "language_info": {
   "codemirror_mode": {
    "name": "ipython",
    "version": 2
   },
   "file_extension": ".py",
   "mimetype": "text/x-python",
   "name": "python",
   "nbconvert_exporter": "python",
   "pygments_lexer": "ipython2",
   "version": "2.7.15"
  }
 },
 "nbformat": 4,
 "nbformat_minor": 2
}
